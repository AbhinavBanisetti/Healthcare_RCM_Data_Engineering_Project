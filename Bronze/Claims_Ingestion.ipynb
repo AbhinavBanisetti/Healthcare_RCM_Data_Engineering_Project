{
 "cells": [
  {
   "cell_type": "code",
   "execution_count": 0,
   "metadata": {
    "application/vnd.databricks.v1+cell": {
     "cellMetadata": {
      "byteLimit": 2048000,
      "rowLimit": 10000
     },
     "inputWidgets": {},
     "nuid": "4c630445-a8fa-4ad5-8a97-70465d3f4421",
     "showTitle": false,
     "tableResultSettingsMap": {},
     "title": ""
    }
   },
   "outputs": [],
   "source": [
    "from pyspark.sql import SparkSession, functions as f\n",
    "\n",
    "claims_df=spark.read.csv(\"/mnt/landing/claims/*.csv\",header=True)\n",
    "\n",
    "claims_df = claims_df.withColumn(\n",
    "    \"datasource\",\n",
    "    f.when(f.input_file_name().contains(\"hospital1\"), \"hosa\").when(f.input_file_name().contains(\"hospital2\"), \"hosb\") # determining the datasource through the file name\n",
    "     .otherwise(None)\n",
    ")\n",
    "\n",
    "display(claims_df)\n"
   ]
  },
  {
   "cell_type": "code",
   "execution_count": 0,
   "metadata": {
    "application/vnd.databricks.v1+cell": {
     "cellMetadata": {
      "byteLimit": 2048000,
      "rowLimit": 10000
     },
     "inputWidgets": {},
     "nuid": "71e0b9b2-d173-4575-9fd2-ef231ecbc189",
     "showTitle": false,
     "tableResultSettingsMap": {},
     "title": ""
    }
   },
   "outputs": [],
   "source": [
    "claims_df.write.format(\"parquet\").mode(\"overwrite\").save(\"/mnt/bronze/claims/\")"
   ]
  }
 ],
 "metadata": {
  "application/vnd.databricks.v1+notebook": {
   "computePreferences": null,
   "dashboards": [],
   "environmentMetadata": {
    "base_environment": "",
    "client": "1"
   },
   "language": "python",
   "notebookMetadata": {
    "pythonIndentUnit": 4
   },
   "notebookName": "Claims_Ingestion",
   "widgets": {}
  },
  "language_info": {
   "name": "python"
  }
 },
 "nbformat": 4,
 "nbformat_minor": 0
}
