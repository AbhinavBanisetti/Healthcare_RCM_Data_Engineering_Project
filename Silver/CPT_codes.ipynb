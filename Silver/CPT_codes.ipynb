{
 "cells": [
  {
   "cell_type": "code",
   "execution_count": 0,
   "metadata": {
    "application/vnd.databricks.v1+cell": {
     "cellMetadata": {},
     "inputWidgets": {},
     "nuid": "a64d67fc-f88b-4576-82c2-0f76b66e25ae",
     "showTitle": false,
     "tableResultSettingsMap": {},
     "title": ""
    }
   },
   "outputs": [],
   "source": [
    "from pyspark.sql import SparkSession, functions as f\n",
    "\n",
    "# Read the CSV file\n",
    "cptcodes_df = spark.read.csv(\"/mnt/landing/cptcodes/*.csv\", header=True)\n",
    "\n",
    "# Replace whitespaces in column names with underscores and convert to lowercase\n",
    "for col in cptcodes_df.columns:\n",
    "    new_col = col.replace(\" \", \"_\").lower()\n",
    "    cptcodes_df = cptcodes_df.withColumnRenamed(col, new_col)\n",
    "cptcodes_df.createOrReplaceTempView(\"cptcodes\")\n",
    "display(cptcodes_df)"
   ]
  },
  {
   "cell_type": "code",
   "execution_count": 0,
   "metadata": {
    "application/vnd.databricks.v1+cell": {
     "cellMetadata": {},
     "inputWidgets": {},
     "nuid": "027e4203-0d3e-4d9a-878b-21d809e128ac",
     "showTitle": false,
     "tableResultSettingsMap": {},
     "title": ""
    }
   },
   "outputs": [],
   "source": [
    "# DBTITLE 1,Parquet file creation\n",
    "cptcodes_df.write.format(\"parquet\").mode(\"overwrite\").save(\"/mnt/bronze/cpt_codes\")"
   ]
  },
  {
   "cell_type": "code",
   "execution_count": 0,
   "metadata": {
    "application/vnd.databricks.v1+cell": {
     "cellMetadata": {},
     "inputWidgets": {},
     "nuid": "1500e224-c845-4e0b-a2e8-c511c75f8a6e",
     "showTitle": false,
     "tableResultSettingsMap": {},
     "title": ""
    }
   },
   "outputs": [],
   "source": [
    "%sql\n",
    "select * from cptcodes"
   ]
  },
  {
   "cell_type": "code",
   "execution_count": 0,
   "metadata": {
    "application/vnd.databricks.v1+cell": {
     "cellMetadata": {},
     "inputWidgets": {},
     "nuid": "b804043d-7b43-4d1e-b5ab-ec53c7dac9bf",
     "showTitle": false,
     "tableResultSettingsMap": {},
     "title": ""
    }
   },
   "outputs": [],
   "source": [
    "%sql\n",
    "CREATE OR REPLACE TEMP VIEW quality_checks AS\n",
    "SELECT \n",
    "cpt_codes,\n",
    "procedure_code_category,\n",
    "procedure_code_descriptions,\n",
    "code_status,\n",
    "    CASE \n",
    "        WHEN cpt_codes IS NULL OR procedure_code_descriptions IS NULL  THEN TRUE\n",
    "        ELSE FALSE\n",
    "    END AS is_quarantined\n",
    "FROM cptcodes"
   ]
  },
  {
   "cell_type": "code",
   "execution_count": 0,
   "metadata": {
    "application/vnd.databricks.v1+cell": {
     "cellMetadata": {},
     "inputWidgets": {},
     "nuid": "fa65e07e-e50f-4a55-a92d-571ba0f016e4",
     "showTitle": false,
     "tableResultSettingsMap": {},
     "title": ""
    }
   },
   "outputs": [],
   "source": [
    "%sql\n",
    "select * from quality_checks"
   ]
  },
  {
   "cell_type": "code",
   "execution_count": 0,
   "metadata": {
    "application/vnd.databricks.v1+cell": {
     "cellMetadata": {},
     "inputWidgets": {},
     "nuid": "65eec7cd-f641-485d-8253-78f1f497a01c",
     "showTitle": false,
     "tableResultSettingsMap": {},
     "title": ""
    }
   },
   "outputs": [],
   "source": [
    "%sql\n",
    "\n",
    "CREATE SCHEMA IF NOT EXISTS hcrcm.silver;\n",
    "\n",
    "CREATE TABLE IF NOT EXISTS silver.cptcodes (\n",
    "cpt_codes string,\n",
    "procedure_code_category string,\n",
    "procedure_code_descriptions string,\n",
    "code_status string,\n",
    "is_quarantined boolean,\n",
    "audit_insertdate timestamp,\n",
    "audit_modifieddate timestamp,\n",
    "is_current boolean\n",
    ")\n",
    "USING DELTA;"
   ]
  },
  {
   "cell_type": "code",
   "execution_count": 0,
   "metadata": {
    "application/vnd.databricks.v1+cell": {
     "cellMetadata": {},
     "inputWidgets": {},
     "nuid": "b63b8307-3470-4abd-bd02-82f173d0ac35",
     "showTitle": false,
     "tableResultSettingsMap": {},
     "title": ""
    }
   },
   "outputs": [],
   "source": [
    "%sql\n",
    "-- Update old record to implement SCD Type 2\n",
    "MERGE INTO silver.cptcodes AS target\n",
    "USING quality_checks AS source\n",
    "ON target.cpt_codes = source.cpt_codes AND target.is_current = true\n",
    "WHEN MATCHED AND (\n",
    "    target.procedure_code_category != source.procedure_code_category OR\n",
    "    target.procedure_code_descriptions != source.procedure_code_descriptions OR\n",
    "    target.code_status != source.code_status OR\n",
    "    target.is_quarantined != source.is_quarantined\n",
    ") THEN\n",
    "  UPDATE SET\n",
    "    target.is_current = false,\n",
    "    target.audit_modifieddate = current_timestamp()\n"
   ]
  },
  {
   "cell_type": "code",
   "execution_count": 0,
   "metadata": {
    "application/vnd.databricks.v1+cell": {
     "cellMetadata": {},
     "inputWidgets": {},
     "nuid": "bf86ebe8-035d-4652-bfc6-26a969e6e231",
     "showTitle": false,
     "tableResultSettingsMap": {},
     "title": ""
    }
   },
   "outputs": [],
   "source": [
    "%sql\n",
    "-- Insert new record to implement SCD Type 2\n",
    "MERGE INTO silver.cptcodes AS target\n",
    "USING quality_checks AS source\n",
    "ON target.cpt_codes = source.cpt_codes AND target.is_current = true\n",
    "WHEN NOT MATCHED THEN\n",
    "  INSERT (\n",
    "    cpt_codes,\n",
    "    procedure_code_category,\n",
    "    procedure_code_descriptions,\n",
    "    code_status,\n",
    "    is_quarantined,\n",
    "    audit_insertdate,\n",
    "    audit_modifieddate,\n",
    "    is_current\n",
    "  )\n",
    "  VALUES (\n",
    "    source.cpt_codes,\n",
    "    source.procedure_code_category,\n",
    "    source.procedure_code_descriptions,\n",
    "    source.code_status,\n",
    "    source.is_quarantined,\n",
    "    current_timestamp(),\n",
    "    current_timestamp(),\n",
    "    true\n",
    "  );\n"
   ]
  },
  {
   "cell_type": "code",
   "execution_count": 0,
   "metadata": {
    "application/vnd.databricks.v1+cell": {
     "cellMetadata": {},
     "inputWidgets": {},
     "nuid": "4d683ad3-c759-47f4-87c1-ed0790ccc6f1",
     "showTitle": false,
     "tableResultSettingsMap": {},
     "title": ""
    }
   },
   "outputs": [],
   "source": [
    "cptcodes_df = spark.sql(\"SELECT * FROM silver.cptcodes\")"
   ]
  },
  {
   "cell_type": "code",
   "execution_count": 0,
   "metadata": {
    "application/vnd.databricks.v1+cell": {
     "cellMetadata": {},
     "inputWidgets": {},
     "nuid": "29fa623e-d747-4e9e-b4b1-972bb10f981b",
     "showTitle": false,
     "tableResultSettingsMap": {},
     "title": ""
    }
   },
   "outputs": [],
   "source": [
    "# Writing the data to the silver layer\n",
    "cptcodes_df.write.format(\"delta\").mode(\"overwrite\").save(\"/mnt/silver/cpt_codes/\")"
   ]
  }
 ],
 "metadata": {
  "application/vnd.databricks.v1+notebook": {
   "computePreferences": null,
   "dashboards": [],
   "environmentMetadata": {
    "base_environment": "",
    "client": "1"
   },
   "language": "python",
   "notebookMetadata": {
    "pythonIndentUnit": 4
   },
   "notebookName": "CPT_codes",
   "widgets": {}
  },
  "language_info": {
   "name": "python"
  }
 },
 "nbformat": 4,
 "nbformat_minor": 0
}
