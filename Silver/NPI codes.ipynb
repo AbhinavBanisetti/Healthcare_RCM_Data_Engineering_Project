{
 "cells": [
  {
   "cell_type": "code",
   "execution_count": 0,
   "metadata": {
    "application/vnd.databricks.v1+cell": {
     "cellMetadata": {},
     "inputWidgets": {},
     "nuid": "5e42ed87-e3be-4e99-9588-3d65455659b3",
     "showTitle": false,
     "tableResultSettingsMap": {},
     "title": ""
    }
   },
   "outputs": [],
   "source": [
    "df=spark.read.parquet(\"/mnt/bronze/npi_extract\")\n",
    "df.createOrReplaceTempView('npi_extract')"
   ]
  },
  {
   "cell_type": "code",
   "execution_count": 0,
   "metadata": {
    "application/vnd.databricks.v1+cell": {
     "cellMetadata": {},
     "inputWidgets": {},
     "nuid": "c27b437d-9d04-459d-8ef7-11ef0254e840",
     "showTitle": false,
     "tableResultSettingsMap": {},
     "title": ""
    }
   },
   "outputs": [],
   "source": [
    "%sql\n",
    "\n",
    "CREATE SCHEMA IF NOT EXISTS hcrcm.silver;\n",
    "\n",
    "CREATE TABLE IF NOT EXISTS silver.npi_extract (\n",
    "  npi_id STRING,\n",
    "  first_name STRING,\n",
    "  last_name STRING,\n",
    "  position STRING,\n",
    "  organisation_name STRING,\n",
    "  last_updated STRING,\n",
    "  inserted_date DATE,\n",
    "  updated_date DATE,\n",
    "  is_current_flag BOOLEAN\n",
    ")"
   ]
  },
  {
   "cell_type": "code",
   "execution_count": 0,
   "metadata": {
    "application/vnd.databricks.v1+cell": {
     "cellMetadata": {},
     "inputWidgets": {},
     "nuid": "566aeb1f-025a-4ec3-aba2-a4efb013a80f",
     "showTitle": false,
     "tableResultSettingsMap": {},
     "title": ""
    }
   },
   "outputs": [],
   "source": [
    "%sql\n",
    "MERGE INTO\n",
    "  silver.npi_extract AS target\n",
    "USING\n",
    "  npi_extract AS source\n",
    "ON target.npi_id = source.npi_id and target.is_current_flag = true\n",
    "WHEN MATCHED AND\n",
    "  target.first_name != source.first_name OR\n",
    "  target.last_name != source.last_name OR\n",
    "  target.position != source.position OR\n",
    "  target.organisation_name != source.organisation_name OR\n",
    "  target.last_updated != source.last_updated\n",
    "  THEN UPDATE SET\n",
    "  target.updated_date = current_date,\n",
    "  target.is_current_flag = False\n"
   ]
  },
  {
   "cell_type": "code",
   "execution_count": 0,
   "metadata": {
    "application/vnd.databricks.v1+cell": {
     "cellMetadata": {},
     "inputWidgets": {},
     "nuid": "cb6f9edf-48a5-442f-938b-b6f47dc32524",
     "showTitle": false,
     "tableResultSettingsMap": {},
     "title": ""
    }
   },
   "outputs": [],
   "source": [
    "%sql\n",
    "MERGE INTO\n",
    "  silver.npi_extract AS target\n",
    "USING\n",
    "  npi_extract AS source\n",
    "ON target.npi_id = source.npi_id and target.is_current_flag = true\n",
    "WHEN NOT MATCHED THEN INSERT (\n",
    "   npi_id,\n",
    "  first_name ,\n",
    "  last_name ,\n",
    "  position ,\n",
    "  organisation_name ,\n",
    "  last_updated ,\n",
    "  inserted_date ,\n",
    "  updated_date ,\n",
    "  is_current_flag \n",
    ")\n",
    "  VALUES (\n",
    "    source.npi_id,\n",
    "  source.first_name ,\n",
    "  source.last_name ,\n",
    "  source.position ,\n",
    "  source.organisation_name ,\n",
    "  source.last_updated ,\n",
    "  current_date,\n",
    "  current_date, \n",
    "  true\n",
    "  )"
   ]
  },
  {
   "cell_type": "code",
   "execution_count": 0,
   "metadata": {
    "application/vnd.databricks.v1+cell": {
     "cellMetadata": {},
     "inputWidgets": {},
     "nuid": "97f7eb47-c948-4276-b2ee-522ee21dd91b",
     "showTitle": false,
     "tableResultSettingsMap": {},
     "title": ""
    }
   },
   "outputs": [],
   "source": [
    "npi_df = spark.sql(\"SELECT * FROM silver.npi_extract\")"
   ]
  },
  {
   "cell_type": "code",
   "execution_count": 0,
   "metadata": {
    "application/vnd.databricks.v1+cell": {
     "cellMetadata": {},
     "inputWidgets": {},
     "nuid": "af0f25f8-fae9-43c1-83d9-29b5bdc9e826",
     "showTitle": false,
     "tableResultSettingsMap": {},
     "title": ""
    }
   },
   "outputs": [],
   "source": [
    "# Writing the data to the silver layer\n",
    "npi_df = spark.sql(\"SELECT * FROM silver.npi_extract\")"
   ]
  }
 ],
 "metadata": {
  "application/vnd.databricks.v1+notebook": {
   "computePreferences": null,
   "dashboards": [],
   "environmentMetadata": {
    "base_environment": "",
    "client": "1"
   },
   "language": "python",
   "notebookMetadata": {
    "pythonIndentUnit": 4
   },
   "notebookName": "NPI codes",
   "widgets": {}
  },
  "language_info": {
   "name": "python"
  }
 },
 "nbformat": 4,
 "nbformat_minor": 0
}
