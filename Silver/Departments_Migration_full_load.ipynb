{
 "cells": [
  {
   "cell_type": "code",
   "execution_count": 0,
   "metadata": {
    "application/vnd.databricks.v1+cell": {
     "cellMetadata": {
      "byteLimit": 2048000,
      "rowLimit": 10000
     },
     "inputWidgets": {},
     "nuid": "ab8d729e-0136-46b9-8f88-754ed14003a3",
     "showTitle": false,
     "tableResultSettingsMap": {},
     "title": ""
    }
   },
   "outputs": [],
   "source": [
    "# Databricks notebook source\n",
    "from pyspark.sql import SparkSession, functions as f\n",
    "\n",
    "#Reading Hospital A departments data \n",
    "df_hosa=spark.read.parquet(\"/mnt/bronze/hosa/departments\")\n",
    "\n",
    "#Reading Hospital B departments data \n",
    "df_hosb=spark.read.parquet(\"/mnt/bronze/hosb/departments\")\n",
    "\n",
    "#union two departments dataframes\n",
    "df_merged = df_hosa.unionByName(df_hosb)\n",
    "\n",
    "# Create the dept_id column and rename deptid to src_dept_id\n",
    "df_merged = df_merged.withColumn(\"SRC_Dept_id\", f.col(\"deptid\")) \\\n",
    "                     .withColumn(\"Dept_id\", f.concat(f.col(\"deptid\"),f.lit('-'), f.col(\"datasource\"))) \\\n",
    "                     .drop(\"deptid\")\n",
    "\n",
    "df_merged.createOrReplaceTempView(\"departments\")"
   ]
  },
  {
   "cell_type": "code",
   "execution_count": 0,
   "metadata": {
    "application/vnd.databricks.v1+cell": {
     "cellMetadata": {
      "byteLimit": 2048000,
      "implicitDf": true,
      "rowLimit": 10000
     },
     "inputWidgets": {},
     "nuid": "5e1fc4c1-9f09-4f10-a6c6-d7ef0491bbcf",
     "showTitle": false,
     "tableResultSettingsMap": {},
     "title": ""
    }
   },
   "outputs": [],
   "source": [
    "%sql\n",
    "CREATE SCHEMA IF NOT EXISTS hcrcm.silver;\n",
    "\n",
    "CREATE TABLE IF NOT EXISTS hcrcm.silver.departments (\n",
    "Dept_Id string,\n",
    "SRC_Dept_Id string,\n",
    "Name string,\n",
    "datasource string,\n",
    "is_quarantined boolean -- This feature will be used to mark the records failing the data quality checks\n",
    ")\n",
    "USING DELTA;"
   ]
  },
  {
   "cell_type": "code",
   "execution_count": 0,
   "metadata": {
    "application/vnd.databricks.v1+cell": {
     "cellMetadata": {},
     "inputWidgets": {},
     "nuid": "2a04c5d1-8785-4f76-84ed-bd6dc32f022c",
     "showTitle": false,
     "tableResultSettingsMap": {},
     "title": ""
    }
   },
   "outputs": [],
   "source": [
    "%sql\n",
    "TRUNCATE TABLE silver.departments;"
   ]
  },
  {
   "cell_type": "code",
   "execution_count": 0,
   "metadata": {
    "application/vnd.databricks.v1+cell": {
     "cellMetadata": {},
     "inputWidgets": {},
     "nuid": "43f991d2-cf4f-43ff-980b-fd0165f303b1",
     "showTitle": false,
     "tableResultSettingsMap": {},
     "title": ""
    }
   },
   "outputs": [],
   "source": [
    "%sql\n",
    "insert into silver.departments\n",
    "SELECT \n",
    "Dept_Id,\n",
    "SRC_Dept_Id,\n",
    "Name,\n",
    "Datasource,\n",
    "    CASE \n",
    "        WHEN SRC_Dept_Id IS NULL OR Name IS NULL THEN TRUE\n",
    "        ELSE FALSE\n",
    "    END AS is_quarantined\n",
    "FROM departments"
   ]
  },
  {
   "cell_type": "code",
   "execution_count": 0,
   "metadata": {
    "application/vnd.databricks.v1+cell": {
     "cellMetadata": {},
     "inputWidgets": {},
     "nuid": "f64663a3-f7e6-431b-8346-208caa0cbfe1",
     "showTitle": false,
     "tableResultSettingsMap": {},
     "title": ""
    }
   },
   "outputs": [],
   "source": [
    "departments_df = spark.sql(\"SELECT * FROM silver.departments\")"
   ]
  },
  {
   "cell_type": "code",
   "execution_count": 0,
   "metadata": {
    "application/vnd.databricks.v1+cell": {
     "cellMetadata": {},
     "inputWidgets": {},
     "nuid": "85262b1e-5d02-4b76-b836-fac2f68a904a",
     "showTitle": false,
     "tableResultSettingsMap": {},
     "title": ""
    }
   },
   "outputs": [],
   "source": [
    "# Writing the data to the silver layer\n",
    "departments_df.write.format(\"delta\").mode(\"overwrite\").save(\"/mnt/silver/department/\")"
   ]
  }
 ],
 "metadata": {
  "application/vnd.databricks.v1+notebook": {
   "computePreferences": null,
   "dashboards": [],
   "environmentMetadata": {
    "base_environment": "",
    "client": "1"
   },
   "language": "python",
   "notebookMetadata": {
    "mostRecentlyExecutedCommandWithImplicitDF": {
     "commandId": 5152421917617149,
     "dataframes": [
      "_sqldf"
     ]
    },
    "pythonIndentUnit": 4
   },
   "notebookName": "Departments_Migration_full_load",
   "widgets": {}
  },
  "language_info": {
   "name": "python"
  }
 },
 "nbformat": 4,
 "nbformat_minor": 0
}
