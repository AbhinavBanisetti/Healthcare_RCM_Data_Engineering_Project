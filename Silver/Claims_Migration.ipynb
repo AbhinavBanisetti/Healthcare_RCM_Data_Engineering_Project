{
 "cells": [
  {
   "cell_type": "code",
   "execution_count": 0,
   "metadata": {
    "application/vnd.databricks.v1+cell": {
     "cellMetadata": {
      "byteLimit": 2048000,
      "rowLimit": 10000
     },
     "inputWidgets": {},
     "nuid": "b0060fc9-1db0-41a7-8b9e-2d059d2bef0f",
     "showTitle": false,
     "tableResultSettingsMap": {},
     "title": ""
    }
   },
   "outputs": [],
   "source": [
    "from pyspark.sql import SparkSession, functions as f\n",
    "claims_df = spark.read.parquet(\"/mnt/bronze/claims/\")\n",
    "claims_df.createOrReplaceTempView(\"claims\")"
   ]
  },
  {
   "cell_type": "code",
   "execution_count": 0,
   "metadata": {
    "application/vnd.databricks.v1+cell": {
     "cellMetadata": {
      "byteLimit": 2048000,
      "implicitDf": true,
      "rowLimit": 10000
     },
     "inputWidgets": {},
     "nuid": "b5b8402a-ea79-46fa-9507-3dc5c7c05b61",
     "showTitle": false,
     "tableResultSettingsMap": {},
     "title": ""
    }
   },
   "outputs": [],
   "source": [
    "%sql\n",
    "SELECT * FROM claims\n",
    "LIMIT 5;"
   ]
  },
  {
   "cell_type": "code",
   "execution_count": 0,
   "metadata": {
    "application/vnd.databricks.v1+cell": {
     "cellMetadata": {},
     "inputWidgets": {},
     "nuid": "50caecd4-f118-482f-b4e3-30e1d7bc0cfb",
     "showTitle": false,
     "tableResultSettingsMap": {},
     "title": ""
    }
   },
   "outputs": [],
   "source": [
    "%sql\n",
    "CREATE OR REPLACE TEMP VIEW quality_checks AS\n",
    "SELECT \n",
    "CONCAT(ClaimID,'-', datasource) AS ClaimID,\n",
    "ClaimID AS  SRC_ClaimID,\n",
    "TransactionID,\n",
    "PatientID,\n",
    "EncounterID,\n",
    "ProviderID,\n",
    "DeptID,\n",
    "cast(ServiceDate as date) ServiceDate,\n",
    "cast(ClaimDate as date) ClaimDate,\n",
    "PayorID,\n",
    "ClaimAmount,\n",
    "PaidAmount,\n",
    "ClaimStatus,\n",
    "PayorType,\n",
    "Deductible,\n",
    "Coinsurance,\n",
    "Copay,\n",
    "cast(InsertDate as date) as SRC_InsertDate,\n",
    "cast(ModifiedDate as date) as SRC_ModifiedDate,\n",
    "datasource,\n",
    "    CASE \n",
    "        WHEN ClaimID IS NULL OR TransactionID IS NULL OR PatientID IS NULL or ServiceDate IS NULL THEN TRUE\n",
    "        ELSE FALSE\n",
    "    END AS is_quarantined\n",
    "FROM claims"
   ]
  },
  {
   "cell_type": "code",
   "execution_count": 0,
   "metadata": {
    "application/vnd.databricks.v1+cell": {
     "cellMetadata": {},
     "inputWidgets": {},
     "nuid": "30369ba5-8d4f-4720-ae0a-193ec5be6f18",
     "showTitle": false,
     "tableResultSettingsMap": {},
     "title": ""
    }
   },
   "outputs": [],
   "source": [
    "%sql\n",
    "select * from quality_checks"
   ]
  },
  {
   "cell_type": "code",
   "execution_count": 0,
   "metadata": {
    "application/vnd.databricks.v1+cell": {
     "cellMetadata": {},
     "inputWidgets": {},
     "nuid": "05ab2ad6-36be-4f8a-a60f-4648a9f0a3ae",
     "showTitle": false,
     "tableResultSettingsMap": {},
     "title": ""
    }
   },
   "outputs": [],
   "source": [
    "%sql\n",
    "CREATE TABLE IF NOT EXISTS silver.claims (\n",
    "ClaimID string,\n",
    "SRC_ClaimID string,\n",
    "TransactionID string,\n",
    "PatientID string,\n",
    "EncounterID string,\n",
    "ProviderID string,\n",
    "DeptID string,\n",
    "ServiceDate date,\n",
    "ClaimDate date,\n",
    "PayorID string,\n",
    "ClaimAmount string,\n",
    "PaidAmount string,\n",
    "ClaimStatus string,\n",
    "PayorType string,\n",
    "Deductible string,\n",
    "Coinsurance string,\n",
    "Copay string,\n",
    "SRC_InsertDate date,\n",
    "SRC_ModifiedDate date,\n",
    "datasource string,\n",
    "is_quarantined boolean,\n",
    "audit_insertdate timestamp,\n",
    "audit_modifieddate timestamp,\n",
    "is_current boolean\n",
    ")\n",
    "USING DELTA;"
   ]
  },
  {
   "cell_type": "code",
   "execution_count": 0,
   "metadata": {
    "application/vnd.databricks.v1+cell": {
     "cellMetadata": {},
     "inputWidgets": {},
     "nuid": "eaaa0af2-6a2f-4120-a6c3-05a06e5b6f2c",
     "showTitle": false,
     "tableResultSettingsMap": {},
     "title": ""
    }
   },
   "outputs": [],
   "source": [
    "%sql\n",
    "-- Update old record to implement SCD Type 2\n",
    "MERGE INTO silver.claims AS target\n",
    "USING quality_checks AS source\n",
    "ON target.ClaimID = source.ClaimID AND target.is_current = true\n",
    "WHEN MATCHED AND (\n",
    "    target.SRC_ClaimID != source.SRC_ClaimID OR\n",
    "    target.TransactionID != source.TransactionID OR\n",
    "    target.PatientID != source.PatientID OR\n",
    "    target.EncounterID != source.EncounterID OR\n",
    "    target.ProviderID != source.ProviderID OR\n",
    "    target.DeptID != source.DeptID OR\n",
    "    target.ServiceDate != source.ServiceDate OR\n",
    "    target.ClaimDate != source.ClaimDate OR\n",
    "    target.PayorID != source.PayorID OR\n",
    "    target.ClaimAmount != source.ClaimAmount OR\n",
    "    target.PaidAmount != source.PaidAmount OR\n",
    "    target.ClaimStatus != source.ClaimStatus OR\n",
    "    target.PayorType != source.PayorType OR\n",
    "    target.Deductible != source.Deductible OR\n",
    "    target.Coinsurance != source.Coinsurance OR\n",
    "    target.Copay != source.Copay OR\n",
    "    target.SRC_InsertDate != source.SRC_InsertDate OR\n",
    "    target.SRC_ModifiedDate != source.SRC_ModifiedDate OR\n",
    "    target.datasource != source.datasource OR\n",
    "    target.is_quarantined != source.is_quarantined\n",
    ") THEN\n",
    "  UPDATE SET\n",
    "    target.is_current = false,\n",
    "    target.audit_modifieddate = current_timestamp()\n",
    "\n"
   ]
  },
  {
   "cell_type": "code",
   "execution_count": 0,
   "metadata": {
    "application/vnd.databricks.v1+cell": {
     "cellMetadata": {},
     "inputWidgets": {},
     "nuid": "25a75b34-cd30-4da6-9d50-86db617c2180",
     "showTitle": false,
     "tableResultSettingsMap": {},
     "title": ""
    }
   },
   "outputs": [],
   "source": [
    "%sql\n",
    "-- Insert new record to implement SCD Type 2\n",
    "MERGE INTO silver.claims AS target\n",
    "USING quality_checks AS source\n",
    "ON target.ClaimID = source.ClaimID AND target.is_current = true\n",
    "WHEN NOT MATCHED THEN\n",
    "  INSERT (\n",
    "    ClaimID,\n",
    "    SRC_ClaimID,\n",
    "    TransactionID,\n",
    "    PatientID,\n",
    "    EncounterID,\n",
    "    ProviderID,\n",
    "    DeptID,\n",
    "    ServiceDate,\n",
    "    ClaimDate,\n",
    "    PayorID,\n",
    "    ClaimAmount,\n",
    "    PaidAmount,\n",
    "    ClaimStatus,\n",
    "    PayorType,\n",
    "    Deductible,\n",
    "    Coinsurance,\n",
    "    Copay,\n",
    "    SRC_InsertDate,\n",
    "    SRC_ModifiedDate,\n",
    "    datasource,\n",
    "    is_quarantined,\n",
    "    audit_insertdate,\n",
    "    audit_modifieddate,\n",
    "    is_current\n",
    "  )\n",
    "  VALUES (\n",
    "    source.ClaimID,\n",
    "    source.SRC_ClaimID,\n",
    "    source.TransactionID,\n",
    "    source.PatientID,\n",
    "    source.EncounterID,\n",
    "    source.ProviderID,\n",
    "    source.DeptID,\n",
    "    source.ServiceDate,\n",
    "    source.ClaimDate,\n",
    "    source.PayorID,\n",
    "    source.ClaimAmount,\n",
    "    source.PaidAmount,\n",
    "    source.ClaimStatus,\n",
    "    source.PayorType,\n",
    "    source.Deductible,\n",
    "    source.Coinsurance,\n",
    "    source.Copay,\n",
    "    source.SRC_InsertDate,\n",
    "    source.SRC_ModifiedDate,\n",
    "    source.datasource,\n",
    "    source.is_quarantined,\n",
    "    current_timestamp(),\n",
    "    current_timestamp(),\n",
    "    true\n",
    "  );\n"
   ]
  },
  {
   "cell_type": "code",
   "execution_count": 0,
   "metadata": {
    "application/vnd.databricks.v1+cell": {
     "cellMetadata": {},
     "inputWidgets": {},
     "nuid": "3905d220-b0bd-4f9c-a7e4-a0f56f15357a",
     "showTitle": false,
     "tableResultSettingsMap": {},
     "title": ""
    }
   },
   "outputs": [],
   "source": [
    "claims_df = spark.sql(\"SELECT * FROM silver.claims\")"
   ]
  },
  {
   "cell_type": "code",
   "execution_count": 0,
   "metadata": {
    "application/vnd.databricks.v1+cell": {
     "cellMetadata": {},
     "inputWidgets": {},
     "nuid": "375ce273-3de9-4ec6-ab64-b5019b8b0be0",
     "showTitle": false,
     "tableResultSettingsMap": {},
     "title": ""
    }
   },
   "outputs": [],
   "source": [
    "# Writing the data to the silver layer\n",
    "claims_df.write.format(\"delta\").mode(\"overwrite\").save(\"/mnt/silver/claims/\")"
   ]
  }
 ],
 "metadata": {
  "application/vnd.databricks.v1+notebook": {
   "computePreferences": null,
   "dashboards": [],
   "environmentMetadata": {
    "base_environment": "",
    "client": "1"
   },
   "language": "python",
   "notebookMetadata": {
    "mostRecentlyExecutedCommandWithImplicitDF": {
     "commandId": 7125733544614208,
     "dataframes": [
      "_sqldf"
     ]
    },
    "pythonIndentUnit": 4
   },
   "notebookName": "Claims_Migration",
   "widgets": {}
  },
  "language_info": {
   "name": "python"
  }
 },
 "nbformat": 4,
 "nbformat_minor": 0
}
